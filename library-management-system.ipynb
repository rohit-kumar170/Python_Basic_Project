{
 "cells": [
  {
   "cell_type": "code",
   "execution_count": 1,
   "id": "chronic-advertiser",
   "metadata": {},
   "outputs": [],
   "source": [
    "book = {'Roll_no':[1001,1002,1003,1004],\n",
    "        'Name':['Ravi','Raunak','Jaya','Saroj'],\n",
    "        'pass':['python@123','roshni@123','su@123','pu@123'],\n",
    "        'book_id':[[],[],[],[]]}"
   ]
  },
  {
   "cell_type": "code",
   "execution_count": 2,
   "id": "conscious-rapid",
   "metadata": {},
   "outputs": [
    {
     "name": "stdout",
     "output_type": "stream",
     "text": [
      "*******************************************************************************************************************************\n",
      "-------------------------------------------------------------------------------------------------------------------------------\n",
      "❤❤❤❤❤❤❤❤❤❤❤❤❤❤❤❤❤❤❤❤❤❤❤❤❤❤❤     Library Management System     ❤❤❤❤❤❤❤❤❤❤❤❤❤❤❤❤❤❤❤❤❤❤❤❤❤❤❤❤\n",
      "-------------------------------------------------------------------------------------------------------------------------------\n",
      "*******************************************************************************************************************************\n",
      "\n",
      "$--MAIN MENU--$\n",
      "\n",
      "1. Login\n",
      "2. Signup\n",
      "3. Admin\n",
      "4. Exit\n"
     ]
    },
    {
     "name": "stdin",
     "output_type": "stream",
     "text": [
      "\n",
      "Enter Your Choice -->  1\n",
      "\n",
      "Enter your Roll number -->  1001\n",
      "\n",
      "Enter your Student password -->  ········\n"
     ]
    },
    {
     "name": "stdout",
     "output_type": "stream",
     "text": [
      "\n",
      "$--ENTER STUDENT PANEL--$\n",
      "\n",
      "1. To Borrow a book\n",
      "2. To return a book\n",
      "3. To Display a book\n",
      "4. Exit\n"
     ]
    },
    {
     "name": "stdin",
     "output_type": "stream",
     "text": [
      "\n",
      "Enter Your choice -->  3\n"
     ]
    },
    {
     "name": "stdout",
     "output_type": "stream",
     "text": [
      "\n",
      "Display all available book []\n",
      "\n",
      "$--ENTER STUDENT PANEL--$\n",
      "\n",
      "1. To Borrow a book\n",
      "2. To return a book\n",
      "3. To Display a book\n",
      "4. Exit\n"
     ]
    },
    {
     "name": "stdin",
     "output_type": "stream",
     "text": [
      "\n",
      "Enter Your choice -->  4\n",
      "\n",
      "Do you really want to Logout??? y\n"
     ]
    },
    {
     "name": "stdout",
     "output_type": "stream",
     "text": [
      "\n",
      "You are successfully Logged Out!!!\n",
      "\n",
      "$--MAIN MENU--$\n",
      "\n",
      "1. Login\n",
      "2. Signup\n",
      "3. Admin\n",
      "4. Exit\n"
     ]
    },
    {
     "name": "stdin",
     "output_type": "stream",
     "text": [
      "\n",
      "Enter Your Choice -->  3\n"
     ]
    },
    {
     "name": "stdout",
     "output_type": "stream",
     "text": [
      "\n",
      "#--Welcome to Admin Pannel--#\n"
     ]
    },
    {
     "name": "stdin",
     "output_type": "stream",
     "text": [
      "\n",
      "Enter Your Username -->  root\n",
      "\n",
      "Enter Your Password -->  ········\n"
     ]
    },
    {
     "name": "stdout",
     "output_type": "stream",
     "text": [
      "\n",
      "Book History -->\n"
     ]
    },
    {
     "name": "stdin",
     "output_type": "stream",
     "text": [
      "Enter Roll Number to Fetch Details -->  1004\n"
     ]
    },
    {
     "name": "stdout",
     "output_type": "stream",
     "text": [
      "Roll Number -->  1004\n",
      "Name -->  Saroj\n",
      "Password -->  pu@123\n",
      "Book id -->  []\n",
      "\n",
      "$--MAIN MENU--$\n",
      "\n",
      "1. Login\n",
      "2. Signup\n",
      "3. Admin\n",
      "4. Exit\n"
     ]
    },
    {
     "name": "stdin",
     "output_type": "stream",
     "text": [
      "\n",
      "Enter Your Choice -->  4\n",
      "\n",
      "Do You Really want to Exit? (y/n) -->  y\n"
     ]
    },
    {
     "name": "stdout",
     "output_type": "stream",
     "text": [
      "\n",
      "ThankYou for using Our Services 😇\n"
     ]
    }
   ],
   "source": [
    "from getpass import getpass\n",
    "print(\"*\"*127)\n",
    "print(\"-\"*127)\n",
    "print(\"     Library Management System     \".center(90,'❤'))\n",
    "print(\"-\"*127)\n",
    "print(\"*\"*127)\n",
    "admin = \"root\"\n",
    "pwd = \"redhat@123\"\n",
    "while True:\n",
    "    print(\"\\n$--Main Menu--$\".upper())\n",
    "    print(\"\\n1. Login\\n2. Signup\\n3. Admin\\n4. Exit\")\n",
    "    ch = input(\"\\nEnter Your Choice --> \")\n",
    "    if ch == \"1\":\n",
    "        Roll_no = int(input(\"\\nEnter your Roll number --> \"))\n",
    "        if Roll_no in book['Roll_no']:\n",
    "            index = book['Roll_no'].index(Roll_no)\n",
    "            acc_pass= getpass(\"\\nEnter your Student password --> \")\n",
    "            if acc_pass == book['pass'][index]:\n",
    "                while True:\n",
    "                    print(\"\\n$--Enter Student panel--$\".upper())\n",
    "                    print(\"\\n1. To Borrow a book\\n2. To return a book\\n3. To Display a book\\n4. Exit\")\n",
    "                    l_ch = input(\"\\nEnter Your choice --> \")\n",
    "                    if l_ch==\"1\":\n",
    "                        b_book=input(\"Enter Book id:\").split(\",\")\n",
    "                        book['book_id'][index].append(b_book)\n",
    "                        print(\"Now your Available book is:\",book['book_id'][index])\n",
    "                    elif l_ch==\"2\":\n",
    "                        return_book=int(input(\"Enter a book_id:\"))\n",
    "                        if return_book in book['book_id'][index]:\n",
    "                            book['book_id'][index].pop(return_book)\n",
    "                            print(\"Now your Available book is\",book['book_id'][index])\n",
    "                        else:\n",
    "                            print(\"You have return all Book\")\n",
    "                    elif l_ch == \"3\":\n",
    "                        print(f\"\\nDisplay all available book {book['book_id'][index]}\")\n",
    "                    elif l_ch==\"4\":\n",
    "                        lo_ch=input(\"\\nDo you really want to Logout???\")\n",
    "                        if lo_ch==\"yes\" or lo_ch =='y':\n",
    "                            print('\\nYou are successfully Logged Out!!!')\n",
    "                            break\n",
    "                        else:\n",
    "                            continue\n",
    "                    else:\n",
    "                        print(\"\\nInvalid Choice!!!\")\n",
    "            else:\n",
    "                print(\"\\nInvalid Roll Number!!!!\")\n",
    "    elif ch==\"2\":\n",
    "        print(\"\\n#--Welcome to Signup Menu--#\")\n",
    "        Roll_no = book['Roll_no'][-1]+1\n",
    "        book_id = []\n",
    "        s_name=input(\"\\nEnter a Student Name -->\")\n",
    "        sign_pwd = getpass(\"\\nCreate a New Password--> \")\n",
    "        v_pwd = input(\"\\nConfirm Password --> \")\n",
    "        if sign_pwd == v_pwd:\n",
    "            book['Roll_no'].append(Roll_no)\n",
    "            book['Name'].append(s_name)\n",
    "            book['book_id'].append(book_id)\n",
    "            book['pass'].append(sign_pwd)\n",
    "            print(f\"\\nYou have successfully Signed Up!!\\nNow You can Login!!!\\nYour Roll Number is {Roll_no}\")\n",
    "        else:\n",
    "            print(\"\\nPassword Doesnot Matched!!!\")\n",
    "    elif ch ==\"3\":\n",
    "        print(\"\\n#--Welcome to Admin Pannel--#\")\n",
    "        adm = input(\"\\nEnter Your Username --> \")\n",
    "        if adm==admin:\n",
    "            adm_pwd= getpass(\"\\nEnter Your Password --> \")\n",
    "            if adm_pwd == pwd:\n",
    "                print(\"\\nBook History -->\")\n",
    "                i = int(input(\"Enter Roll Number to Fetch Details --> \"))\n",
    "                index = book['Roll_no'].index(i)\n",
    "                print(\"Roll Number --> \",book['Roll_no'][index])\n",
    "                print(\"Name --> \",book['Name'][index])\n",
    "                print(\"Password --> \",book['pass'][index])\n",
    "                print(\"Book id --> \",book['book_id'][index])\n",
    "            else:\n",
    "                print(\"\\nIncorrect Admin Password!!!\")\n",
    "        else:\n",
    "            print(\"\\nInvalid Admin User!!!\")\n",
    "    elif ch==\"4\":\n",
    "        ch1 = input(\"\\nDo You Really want to Exit? (y/n) --> \")\n",
    "        if ch1 == \"yes\" or ch1 == \"y\":\n",
    "            print(\"\\nThankYou for using Our Services 😇\")\n",
    "            break\n",
    "        else:\n",
    "            continue\n",
    "    else:\n",
    "        print(\"\\nInvalid Choice!!!\")"
   ]
  }
 ],
 "metadata": {
  "kernelspec": {
   "display_name": "Python 3 (ipykernel)",
   "language": "python",
   "name": "python3"
  },
  "language_info": {
   "codemirror_mode": {
    "name": "ipython",
    "version": 3
   },
   "file_extension": ".py",
   "mimetype": "text/x-python",
   "name": "python",
   "nbconvert_exporter": "python",
   "pygments_lexer": "ipython3",
   "version": "3.11.6"
  }
 },
 "nbformat": 4,
 "nbformat_minor": 5
}
