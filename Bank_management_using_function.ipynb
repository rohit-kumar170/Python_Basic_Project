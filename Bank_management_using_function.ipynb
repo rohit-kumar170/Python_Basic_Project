{
 "cells": [
  {
   "cell_type": "code",
   "execution_count": 1,
   "id": "imposed-direction",
   "metadata": {},
   "outputs": [],
   "source": [
    "data = {'acc':[1001,1002,1003,1004],\n",
    "        'user':['Ravi','Raunak','Jaya','Saroj'],\n",
    "        'pass':['python@123','roshni@123','su@123','pu@123'],\n",
    "        'bal':[101.0,100000.0,1242143141.0,1241241345312.00]}\n"
   ]
  },
  {
   "cell_type": "code",
   "execution_count": 2,
   "id": "oriental-controversy",
   "metadata": {},
   "outputs": [
    {
     "data": {
      "text/plain": [
       "{'acc': [1001, 1002, 1003, 1004],\n",
       " 'user': ['Ravi', 'Raunak', 'Jaya', 'Saroj'],\n",
       " 'pass': ['python@123', 'roshni@123', 'su@123', 'pu@123'],\n",
       " 'bal': [101.0, 100000.0, 1242143141.0, 1241241345312.0]}"
      ]
     },
     "execution_count": 2,
     "metadata": {},
     "output_type": "execute_result"
    }
   ],
   "source": [
    "data"
   ]
  },
  {
   "cell_type": "code",
   "execution_count": 3,
   "id": "advance-keeping",
   "metadata": {},
   "outputs": [],
   "source": [
    "import json\n",
    "with open(\"/home/rohit/Grass/project/bank_info.txt\",'wt') as f:\n",
    "    json.dump(data,f)"
   ]
  },
  {
   "cell_type": "code",
   "execution_count": 4,
   "id": "documented-martin",
   "metadata": {},
   "outputs": [
    {
     "name": "stdout",
     "output_type": "stream",
     "text": [
      "<class 'dict'>\n"
     ]
    }
   ],
   "source": [
    "f2=open(\"/home/rohit/Grass/project/bank_info.txt\",'r') \n",
    "bank=json.load(f2)\n",
    "print(type(bank))"
   ]
  },
  {
   "cell_type": "code",
   "execution_count": 5,
   "id": "historical-nature",
   "metadata": {},
   "outputs": [
    {
     "data": {
      "text/plain": [
       "{'acc': [1001, 1002, 1003, 1004],\n",
       " 'user': ['Ravi', 'Raunak', 'Jaya', 'Saroj'],\n",
       " 'pass': ['python@123', 'roshni@123', 'su@123', 'pu@123'],\n",
       " 'bal': [101.0, 100000.0, 1242143141.0, 1241241345312.0]}"
      ]
     },
     "execution_count": 5,
     "metadata": {},
     "output_type": "execute_result"
    }
   ],
   "source": [
    "bank"
   ]
  },
  {
   "cell_type": "code",
   "execution_count": 6,
   "id": "upset-runner",
   "metadata": {},
   "outputs": [],
   "source": [
    "\n",
    "#Function create for Bank \n",
    "def start():\n",
    "    while True:\n",
    "        print(\"\\n$--Main Menu--$\".upper())\n",
    "        print(\"\\n1. Login\\n2. Signup\\n3. Admin\\n4. Exit\")\n",
    "        ch = input(\"\\nEnter Your Choice --> \")\n",
    "        if ch == \"1\":\n",
    "            acc_no = int(input(\"\\nEnter your Account Number --> \"))\n",
    "            if acc_no in bank['acc']:\n",
    "                index = bank['acc'].index(acc_no)\n",
    "                acc_pass= getpass(\"\\nEnter your Account Password --> \")\n",
    "                if acc_pass == bank['pass'][index]:\n",
    "                    while True:\n",
    "                        print(\"\\n$--Login Menu--$\".upper())\n",
    "                        f=open(\"log.txt\",'a')\n",
    "                        f.write(f\"{bank['user'][index]} with account number {bank['acc'][index]} logged in at {time.ctime()}\\n\")\n",
    "                        f.close()\n",
    "                        print(\"\\n1.Credit\\n2. Debit\\n3. Change Password\\n4. Check Balance\\n5. Logout\")\n",
    "                        l_ch = input(\"\\nEnter Your choice --> \")\n",
    "                        if l_ch==\"1\":\n",
    "                            cred_bal=int(input(\"Enter Amount for Credit:\"))\n",
    "                            bank['bal'][index]=bank['bal'][index]+cred_bal\n",
    "                            print(\"Now your account balance\",bank['bal'][index])\n",
    "                            f=open(\"log.txt\",'a')\n",
    "                            f.write(f\"{bank['user'][index]} with account number {bank['acc'][index]} credit in at {time.ctime()}\\n\")\n",
    "                            f.close()\n",
    "                        elif l_ch==\"2\":\n",
    "                            deb_bal=int(input(\"Enter for Amount of Debit:\"))\n",
    "                            if deb_bal<=bank['bal'][index]:\n",
    "                                bank['bal'][index]=bank['bal'][index]-deb_bal\n",
    "                                print(\"Now your balance\",bank['bal'][index])\n",
    "                                f=open(\"log.txt\",'a')\n",
    "                                f.write(f\"{bank['user'][index]} with account number {bank['acc'][index]} Debit at {time.ctime()}\\n\")\n",
    "                                f.close()\n",
    "                            else:\n",
    "                                print(\"Insufficient Amount\")\n",
    "                            \n",
    "                        elif l_ch == \"3\":\n",
    "                            print(\"\\n$--Welcome to Change Password--$\")\n",
    "                            curr_= input(\"Enter Your Current Password --> \")\n",
    "                            if curr_  == bank['pass'][index]:\n",
    "                                new_= input(\"Enter Your New Password --> \")\n",
    "                                cnf_= input(\"Confirm Your New Password --> \")\n",
    "                                if new_ == cnf_:\n",
    "                                    bank['pass'][index] = new_\n",
    "                                    print('\\nYour Password has been successfully Changed!!!')\n",
    "                                    f=open(\"log.txt\",'a')\n",
    "                                    f.write(f\"{bank['user'][index]} with account number {bank['acc'][index]} Password change at {time.ctime()}\\n\")\n",
    "                                    f.close()\n",
    "                                else:\n",
    "                                    print(\"\\nPassword Doesnot Matched!!!\")\n",
    "                            else:\n",
    "                                print(\"\\nIncorrect Password Please Try Again!!!\")\n",
    "                                break\n",
    "                        elif l_ch == \"4\":\n",
    "                            print(f\"\\nYour Account Balance is Rs {bank['bal'][index]}\")\n",
    "                        elif l_ch==\"5\":\n",
    "                            lo_ch=input(\"\\nDo you really want to Logout???\")\n",
    "                            if lo_ch==\"yes\" or lo_ch =='y':\n",
    "                                print('\\nYou are successfully Logged Out!!!')\n",
    "                                f=open(\"log.txt\",'a')\n",
    "                                f.write(f\"{bank['user'][index]} with account number {bank['acc'][index]} logged out at {time.ctime()}\")\n",
    "                                f.close()\n",
    "                                break\n",
    "                            else:\n",
    "                                continue\n",
    "                        else:\n",
    "                            print(\"\\nInvalid Choice!!!\")\n",
    "                else:\n",
    "                    print(\"\\nIncorrect Password!!!\")\n",
    "            else:\n",
    "                print(\"\\nInvalid Account Number!!!!\")\n",
    "        elif ch==\"2\":\n",
    "            print(\"\\n#--Welcome to Signup Menu--#\")\n",
    "            acc = bank['acc'][-1]+1\n",
    "            bal = 0.0\n",
    "            user=input(\"\\nEnter a username -->\")\n",
    "            sign_pwd = getpass(\"\\nCreate a New Password--> \")\n",
    "            v_pwd = input(\"\\nConfirm Password --> \")\n",
    "            if sign_pwd == v_pwd:\n",
    "                bank['acc'].append(acc)\n",
    "                bank['user'].append(user)\n",
    "                bank['bal'].append(bal)\n",
    "                bank['pass'].append(sign_pwd)\n",
    "                print(f\"\\nYou have successfully Signed Up!!\\nNow You can Login!!!\\nYour Account Number is {acc}\")\n",
    "                with open(\"/home/rohit/Grass/project/bank_info.txt\",'wt') as f:\n",
    "                    json.dump(bank,f)\n",
    "                f=open(\"log.txt\",'a')\n",
    "                f.write(f\"{acc} is  signup at {time.ctime()}\\n\")\n",
    "                f.close()\n",
    "            else:\n",
    "                print(\"\\nPassword Doesnot Matched!!!\")\n",
    "        elif ch ==\"3\":\n",
    "            print(\"\\n#--Welcome to Admin Pannel--#\")\n",
    "            adm = input(\"\\nEnter Your Username --> \")\n",
    "            if adm==admin:\n",
    "                adm_pwd= getpass(\"\\nEnter Your Password --> \")\n",
    "                if adm_pwd == pwd:\n",
    "                    print(\"\\nAccount Details -->\")\n",
    "                    i = int(input(\"Enter Account Number to Fetch Details --> \"))\n",
    "                    index = bank['acc'].index(i)\n",
    "                    print(\"Account Number --> \",bank['acc'][index])\n",
    "                    print(\"Username --> \",bank['user'][index])\n",
    "                    print(\"Password --> \",bank['pass'][index])\n",
    "                    print(\"Balance --> \",bank['bal'][index])\n",
    "                    print(\"\\nIncorrect Admin Password!!!\")\n",
    "            else:\n",
    "                print(\"\\nInvalid Admin User!!!\")\n",
    "        elif ch==\"4\":\n",
    "            ch1 = input(\"\\nDo You Really want to Exit? (y/n) --> \")\n",
    "            if ch1 == \"yes\" or ch1 == \"y\":\n",
    "                print(\"\\nThankYou for using Our Services 😇\")\n",
    "                break\n",
    "            else:\n",
    "                continue\n",
    "        else:\n",
    "            print(\"\\nInvalid Choice!!!\")\n"
   ]
  },
  {
   "cell_type": "code",
   "execution_count": 7,
   "id": "equipped-culture",
   "metadata": {},
   "outputs": [
    {
     "name": "stdout",
     "output_type": "stream",
     "text": [
      "*******************************************************************************************************************************\n",
      "-------------------------------------------------------------------------------------------------------------------------------\n",
      "❤❤❤❤❤❤❤❤❤❤❤❤❤❤❤❤❤❤❤❤❤❤❤❤     Welcome to Python Bank of India     ❤❤❤❤❤❤❤❤❤❤❤❤❤❤❤❤❤❤❤❤❤❤❤❤❤\n",
      "-------------------------------------------------------------------------------------------------------------------------------\n",
      "*******************************************************************************************************************************\n",
      "\n",
      "$--MAIN MENU--$\n",
      "\n",
      "1. Login\n",
      "2. Signup\n",
      "3. Admin\n",
      "4. Exit\n"
     ]
    },
    {
     "name": "stdin",
     "output_type": "stream",
     "text": [
      "\n",
      "Enter Your Choice -->  1\n",
      "\n",
      "Enter your Account Number -->  1001\n",
      "\n",
      "Enter your Account Password -->  ········\n"
     ]
    },
    {
     "name": "stdout",
     "output_type": "stream",
     "text": [
      "\n",
      "$--LOGIN MENU--$\n",
      "\n",
      "1.Credit\n",
      "2. Debit\n",
      "3. Change Password\n",
      "4. Check Balance\n",
      "5. Logout\n"
     ]
    },
    {
     "name": "stdin",
     "output_type": "stream",
     "text": [
      "\n",
      "Enter Your choice -->  4\n"
     ]
    },
    {
     "name": "stdout",
     "output_type": "stream",
     "text": [
      "\n",
      "Your Account Balance is Rs 101.0\n",
      "\n",
      "$--LOGIN MENU--$\n",
      "\n",
      "1.Credit\n",
      "2. Debit\n",
      "3. Change Password\n",
      "4. Check Balance\n",
      "5. Logout\n"
     ]
    },
    {
     "name": "stdin",
     "output_type": "stream",
     "text": [
      "\n",
      "Enter Your choice -->  5\n",
      "\n",
      "Do you really want to Logout??? yes\n"
     ]
    },
    {
     "name": "stdout",
     "output_type": "stream",
     "text": [
      "\n",
      "You are successfully Logged Out!!!\n",
      "\n",
      "$--MAIN MENU--$\n",
      "\n",
      "1. Login\n",
      "2. Signup\n",
      "3. Admin\n",
      "4. Exit\n"
     ]
    },
    {
     "name": "stdin",
     "output_type": "stream",
     "text": [
      "\n",
      "Enter Your Choice -->  4\n",
      "\n",
      "Do You Really want to Exit? (y/n) -->  y\n"
     ]
    },
    {
     "name": "stdout",
     "output_type": "stream",
     "text": [
      "\n",
      "ThankYou for using Our Services 😇\n"
     ]
    }
   ],
   "source": [
    "import time\n",
    "from getpass import getpass\n",
    "print(\"*\"*127)\n",
    "print(\"-\"*127)\n",
    "print(\"     Welcome to Python Bank of India     \".center(90,'❤'))\n",
    "print(\"-\"*127)\n",
    "print(\"*\"*127)\n",
    "admin = \"root\"\n",
    "pwd = \"redhat@123\"\n",
    "f2.close()\n",
    "start()      #Function Calling\n"
   ]
  },
  {
   "cell_type": "markdown",
   "id": "7f0bc567-05cc-4707-bf86-47fb3e43b531",
   "metadata": {},
   "source": [
    "##### bank"
   ]
  },
  {
   "cell_type": "code",
   "execution_count": null,
   "id": "surprising-commerce",
   "metadata": {},
   "outputs": [],
   "source": [
    "f=open(\"log.txt\",'w')\n",
    "f.write(f\"{bank['user'][index]} with account number {bank['acc'][index]} logged in at {time.ctime()}\")\n",
    "f.close()"
   ]
  },
  {
   "cell_type": "code",
   "execution_count": null,
   "id": "pretty-prophet",
   "metadata": {},
   "outputs": [],
   "source": []
  },
  {
   "cell_type": "code",
   "execution_count": null,
   "id": "chronic-family",
   "metadata": {},
   "outputs": [],
   "source": []
  },
  {
   "cell_type": "code",
   "execution_count": null,
   "id": "thorough-helen",
   "metadata": {},
   "outputs": [],
   "source": []
  },
  {
   "cell_type": "code",
   "execution_count": null,
   "id": "seeing-physics",
   "metadata": {},
   "outputs": [],
   "source": []
  },
  {
   "cell_type": "code",
   "execution_count": null,
   "id": "atmospheric-inspector",
   "metadata": {},
   "outputs": [],
   "source": []
  },
  {
   "cell_type": "code",
   "execution_count": null,
   "id": "republican-russia",
   "metadata": {},
   "outputs": [],
   "source": []
  },
  {
   "cell_type": "code",
   "execution_count": null,
   "id": "white-catalog",
   "metadata": {},
   "outputs": [],
   "source": []
  },
  {
   "cell_type": "code",
   "execution_count": null,
   "id": "further-thanks",
   "metadata": {},
   "outputs": [],
   "source": []
  },
  {
   "cell_type": "code",
   "execution_count": null,
   "id": "complete-minority",
   "metadata": {},
   "outputs": [],
   "source": []
  },
  {
   "cell_type": "code",
   "execution_count": 13,
   "id": "recorded-solomon",
   "metadata": {},
   "outputs": [],
   "source": [
    "##2nd  Method"
   ]
  },
  {
   "cell_type": "code",
   "execution_count": 57,
   "id": "bronze-labor",
   "metadata": {},
   "outputs": [],
   "source": [
    "bank = {'acc':[1001,1002,1003,1004],\n",
    "        'user':['Ravi','Raunak','Jaya','Saroj'],\n",
    "        'pass':['python@123','roshni@123','su@123','pu@123'],\n",
    "        'bal':[101.0,100000.0,1242143141.0,1241241345312.00]}\n"
   ]
  },
  {
   "cell_type": "code",
   "execution_count": 58,
   "id": "nuclear-investment",
   "metadata": {},
   "outputs": [],
   "source": [
    "def user(acc_no):\n",
    "    if acc_no in bank['acc']:\n",
    "        index = bank['acc'].index(acc_no)\n",
    "        acc_pass= getpass(\"\\nEnter your Account Password --> \")\n",
    "        if acc_pass == bank['pass'][index]:\n",
    "            while True:\n",
    "                print(\"\\n$--Login Menu--$\".upper())\n",
    "                print(\"\\n1.Credit\\n2. Debit\\n3. Change Password\\n4. Check Balance\\n5. Logout\")     \n"
   ]
  },
  {
   "cell_type": "code",
   "execution_count": 59,
   "id": "alpine-inclusion",
   "metadata": {},
   "outputs": [],
   "source": [
    "def credit(cred_bal):\n",
    "    bank['bal'][index]=bank['bal'][index]+cred_bal\n",
    "    print(\"Now your account balance\",bank['bal'][index])\n",
    "    "
   ]
  },
  {
   "cell_type": "code",
   "execution_count": 60,
   "id": "difficult-mechanics",
   "metadata": {},
   "outputs": [],
   "source": [
    "def debit(deb_bal):\n",
    "    if deb_bal<=bank['bal'][index]:\n",
    "        bank['bal'][index]=bank['bal'][index]-deb_bal\n",
    "        print(\"Now your balance\",bank['bal'][index])\n",
    "    else:\n",
    "        print(\"Insufficient Amount\")"
   ]
  },
  {
   "cell_type": "code",
   "execution_count": 61,
   "id": "disturbed-membrane",
   "metadata": {},
   "outputs": [],
   "source": [
    "def change_passwd(curr_):\n",
    "     if curr_ == bank['pass'][index]:\n",
    "        new_= input(\"Enter Your New Password --> \")\n",
    "        cnf_= input(\"Confirm Your New Password --> \")\n",
    "        if new_ == cnf_:\n",
    "            bank['pass'][index] = new_\n",
    "            print('\\nYour Password has been successfully Changed!!!')\n",
    "        else:\n",
    "            print(\"\\nPassword Doesnot Matched!!!\")\n",
    "    #else:\n",
    "      #  print(\"\\nIncorrect Password Please Try Again!!!\")\n"
   ]
  },
  {
   "cell_type": "code",
   "execution_count": 62,
   "id": "mathematical-event",
   "metadata": {},
   "outputs": [],
   "source": [
    "def check_balance():\n",
    "    print(f\"\\nYour Account Balance is Rs {bank['bal'][index]}\")"
   ]
  },
  {
   "cell_type": "code",
   "execution_count": 63,
   "id": "prompt-celebration",
   "metadata": {},
   "outputs": [],
   "source": [
    "def logout(lo_ch):\n",
    "    lo_ch=input(\"\\nDo you really want to Logout???\")\n",
    "    if lo_ch==\"yes\" or lo_ch =='y':\n",
    "        print('\\nYou are successfully Logged Out!!!')\n",
    "        break\n",
    "        else:\n",
    "            continue\n",
    "            else:\n",
    "                            print(\"\\nInvalid Choice!!!\")\n",
    "                else:\n",
    "                    print(\"\\nIncorrect Password!!!\")\n",
    "            else:\n",
    "                print(\"\\nInvalid Account Number!!!!\")"
   ]
  },
  {
   "cell_type": "code",
   "execution_count": 65,
   "id": "warming-patio",
   "metadata": {},
   "outputs": [],
   "source": [
    "def signup():\n",
    "    acc = bank['acc'][-1]+1\n",
    "    bal = 0.0\n",
    "    user=input(\"\\nEnter a username -->\")\n",
    "    sign_pwd = getpass(\"\\nCreate a New Password--> \")\n",
    "    v_pwd = input(\"\\nConfirm Password --> \")\n",
    "    if sign_pwd == v_pwd:\n",
    "        bank['acc'].append(acc)\n",
    "        bank['user'].append(user)\n",
    "        bank['bal'].append(bal)\n",
    "        bank['pass'].append(sign_pwd)\n",
    "        print(f\"\\nYou have successfully Signed Up!!\\nNow You can Login!!!\\nYour Account Number is {acc}\")\n",
    "    else:\n",
    "        print(\"\\nPassword Doesnot Matched!!!\")\n"
   ]
  },
  {
   "cell_type": "code",
   "execution_count": 66,
   "id": "multiple-neutral",
   "metadata": {},
   "outputs": [],
   "source": [
    "def admin():\n",
    "    adm = input(\"\\nEnter Your Username --> \")\n",
    "    if adm==admin:\n",
    "        adm_pwd= getpass(\"\\nEnter Your Password --> \")\n",
    "        if adm_pwd == pwd:\n",
    "            print(\"\\nAccount Details -->\")\n",
    "            i = int(input(\"Enter Account Number to Fetch Details --> \"))\n",
    "            index = bank['acc'].index(i)\n",
    "            print(\"Account Number --> \",bank['acc'][index])\n",
    "            print(\"Username --> \",bank['user'][index])\n",
    "            print(\"Password --> \",bank['pass'][index])\n",
    "            print(\"Balance --> \",bank['bal'][index])\n",
    "            print(\"\\nIncorrect Admin Password!!!\")\n",
    "        else:\n",
    "            print(\"\\nInvalid Admin User!!!\")"
   ]
  },
  {
   "cell_type": "code",
   "execution_count": 8,
   "id": "ranging-chrome",
   "metadata": {},
   "outputs": [
    {
     "ename": "SyntaxError",
     "evalue": "'break' outside loop (2326036149.py, line 4)",
     "output_type": "error",
     "traceback": [
      "\u001b[0;36m  Cell \u001b[0;32mIn[8], line 4\u001b[0;36m\u001b[0m\n\u001b[0;31m    break\u001b[0m\n\u001b[0m    ^\u001b[0m\n\u001b[0;31mSyntaxError\u001b[0m\u001b[0;31m:\u001b[0m 'break' outside loop\n"
     ]
    }
   ],
   "source": [
    "def exit(ch1):\n",
    "    if ch1 == \"yes\" or ch1 == \"y\":\n",
    "        print(\"\\nThankYou for using Our Services 😇\")\n",
    "        break\n",
    "    else:\n",
    "        continue"
   ]
  },
  {
   "cell_type": "code",
   "execution_count": null,
   "id": "powered-algebra",
   "metadata": {},
   "outputs": [
    {
     "name": "stdout",
     "output_type": "stream",
     "text": [
      "*******************************************************************************************************************************\n",
      "-------------------------------------------------------------------------------------------------------------------------------\n",
      "❤❤❤❤❤❤❤❤❤❤❤❤❤❤❤❤❤❤❤❤❤❤❤❤     Welcome to Python Bank of India     ❤❤❤❤❤❤❤❤❤❤❤❤❤❤❤❤❤❤❤❤❤❤❤❤❤\n",
      "-------------------------------------------------------------------------------------------------------------------------------\n",
      "*******************************************************************************************************************************\n",
      "\n",
      "$--MAIN MENU--$\n",
      "\n",
      "1. Login\n",
      "2. Signup\n",
      "3. Admin\n",
      "4. Exit\n"
     ]
    },
    {
     "name": "stdin",
     "output_type": "stream",
     "text": [
      "\n",
      "Enter Your Choice -->  4\n",
      "\n",
      "Do You Really want to Exit? (y/n) -->  y\n"
     ]
    },
    {
     "name": "stdout",
     "output_type": "stream",
     "text": [
      "\n",
      "ThankYou for using Our Services 😇\n",
      "\n",
      "$--MAIN MENU--$\n",
      "\n",
      "1. Login\n",
      "2. Signup\n",
      "3. Admin\n",
      "4. Exit\n"
     ]
    },
    {
     "name": "stdin",
     "output_type": "stream",
     "text": [
      "\n",
      "Enter Your Choice -->  4\n",
      "\n",
      "Do You Really want to Exit? (y/n) -->  y\n"
     ]
    },
    {
     "name": "stdout",
     "output_type": "stream",
     "text": [
      "\n",
      "ThankYou for using Our Services 😇\n",
      "\n",
      "$--MAIN MENU--$\n",
      "\n",
      "1. Login\n",
      "2. Signup\n",
      "3. Admin\n",
      "4. Exit\n"
     ]
    },
    {
     "name": "stdin",
     "output_type": "stream",
     "text": [
      "\n",
      "Enter Your Choice -->  4\n",
      "\n",
      "Do You Really want to Exit? (y/n) -->  y\n"
     ]
    },
    {
     "name": "stdout",
     "output_type": "stream",
     "text": [
      "\n",
      "ThankYou for using Our Services 😇\n",
      "\n",
      "$--MAIN MENU--$\n",
      "\n",
      "1. Login\n",
      "2. Signup\n",
      "3. Admin\n",
      "4. Exit\n"
     ]
    }
   ],
   "source": [
    "from getpass import getpass\n",
    "print(\"*\"*127)\n",
    "print(\"-\"*127)\n",
    "print(\"     Welcome to Python Bank of India     \".center(90,'❤'))\n",
    "print(\"-\"*127)\n",
    "print(\"*\"*127)\n",
    "admin = \"root\"\n",
    "pwd = \"redhat@123\"\n",
    "while True:\n",
    "    print(\"\\n$--Main Menu--$\".upper())\n",
    "    print(\"\\n1. Login\\n2. Signup\\n3. Admin\\n4. Exit\")\n",
    "    ch = input(\"\\nEnter Your Choice --> \")\n",
    "    if ch == \"1\":\n",
    "        acc_no = int(input(\"\\nEnter your Account Number --> \"))\n",
    "        login(acc_no)\n",
    "        l_ch = input(\"\\nEnter Your choice --> \")\n",
    "        if l_ch==\"1\":\n",
    "            cred_bal=int(input(\"Enter Amount for Credit:\"))\n",
    "            credit(cred_bal)\n",
    "        elif l_ch==\"2\":\n",
    "            deb_bal=int(input(\"Enter for Amount of Debit:\"))\n",
    "            debit(deb_bal)\n",
    "        elif l_ch == \"3\":\n",
    "            print(\"\\n$--Welcome to Change Password--$\")\n",
    "            curr_= input(\"Enter Your Current Password --> \")\n",
    "            change_passwd(curr_)\n",
    "            break\n",
    "        elif l_ch == \"4\":\n",
    "            check_balance()\n",
    "        elif l_ch==\"5\":\n",
    "            lo_ch=input(\"\\nDo you really want to Logout???\")\n",
    "            logout(lo_ch)\n",
    "            break\n",
    "        else:\n",
    "            continue    \n",
    "    elif ch==\"2\":\n",
    "        print(\"\\n#--Welcome to Signup Menu--#\")\n",
    "        signup()\n",
    "    elif ch ==\"3\":\n",
    "        print(\"\\n#--Welcome to Admin Pannel--#\")\n",
    "        adm = input(\"\\nEnter Your Username --> \")\n",
    "        admin()\n",
    "    elif ch==\"4\":\n",
    "        ch1 = input(\"\\nDo You Really want to Exit? (y/n) --> \")\n",
    "        def exit(ch1):\n",
    "            if ch1 == \"yes\" or ch1 == \"y\":\n",
    "                print(\"\\nThankYou for using Our Services 😇\")\n",
    "            \n",
    "        exit(ch1)\n",
    "    else:\n",
    "        print(\"\\nInvalid Choice!!!\")"
   ]
  },
  {
   "cell_type": "code",
   "execution_count": null,
   "id": "destroyed-handy",
   "metadata": {},
   "outputs": [],
   "source": []
  }
 ],
 "metadata": {
  "kernelspec": {
   "display_name": "Python 3 (ipykernel)",
   "language": "python",
   "name": "python3"
  },
  "language_info": {
   "codemirror_mode": {
    "name": "ipython",
    "version": 3
   },
   "file_extension": ".py",
   "mimetype": "text/x-python",
   "name": "python",
   "nbconvert_exporter": "python",
   "pygments_lexer": "ipython3",
   "version": "3.11.6"
  }
 },
 "nbformat": 4,
 "nbformat_minor": 5
}
